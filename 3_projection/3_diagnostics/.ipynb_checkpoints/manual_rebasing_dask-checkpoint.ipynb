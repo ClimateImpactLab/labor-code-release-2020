{
 "cells": [
  {
   "cell_type": "code",
   "execution_count": 1,
   "metadata": {},
   "outputs": [],
   "source": [
    "'''\n",
    "Manual rebasing script\n",
    "\n",
    "Purpose: this script takes unrebased projection output and manually calculates the 'combined, rebased impact'\n",
    "(correctly!) by enacting this equation:\n",
    "\n",
    "combined_rebased_impact = minlost_hi_rebased * riskshare_hi + minlost_lo_rebased * (1 - riskshare_hi)\n",
    "\n",
    "This is done for histclim and fulladapt scenarios. As per usual, the histclim value will then be subtracted\n",
    "from the fulladapt value and we will get our final result.\n",
    "\n",
    "Parameters:\n",
    "\n",
    "@model     : the name of the model (and thus the name of folder that output is stored in)\n",
    "@scenario  : the name of the scenario from which projection output is sourced\n",
    "\n",
    "Outputs: a modified version of the original projection file that now includes a new column, 'rebased_new',\n",
    "which has this correctly-calculated combined, rebased impact.\n",
    "\n",
    "'''\n",
    "__author__ = 'Kit Schwarz'\n",
    "__contact__ = 'csschwarz@uchicago.edu'\n",
    "__version__ = '1.0'\n",
    "\n",
    "############\n",
    "# LIBRARIES\n",
    "############\n",
    "\n",
    "from dask.distributed import Client\n",
    "import multiprocessing\n",
    "import xarray as xr\n",
    "import numpy as np\n",
    "import pandas as pd\n",
    "import getpass\n",
    "import sys\n",
    "\n",
    "username = getpass.getuser()\n"
   ]
  },
  {
   "cell_type": "code",
   "execution_count": 2,
   "metadata": {},
   "outputs": [],
   "source": [
    "############\n",
    "# PARAMETERS\n",
    "############\n",
    "\n",
    "# select: uninteracted_main_model, uninteracted_main_model_w_chn\n",
    "model = 'uninteracted_main_model'\n",
    "\n",
    "# leave these if you want to rebase & combine for all scenarios\n",
    "# empty string is for 'fulladapt'\n",
    "scenarios = ['', '-histclim', '-incadapt', '-noadapt'] \n",
    "\n",
    "############\n",
    "# PATHWAYS\n",
    "############\n",
    "\n",
    "if model == 'uninteracted_main_model_w_chn':\n",
    "    \n",
    "    proj_root = ('/shares/gcp/outputs/labor/impacts-woodwork/uninteracted_main_model_w_chn/' +\n",
    "                 'uninteracted_splines_w_chn_21_37_41_by_risk_empshare_noFE_YearlyAverageDay/rcp85/CCSM4/high/SSP3')\n",
    "    \n",
    "    output_root = ('/shares/gcp/outputs/labor/impacts-woodwork/uninteracted_main_model_w_chn_copy/' +\n",
    "                 'uninteracted_splines_w_chn_21_37_41_by_risk_empshare_noFE_YearlyAverageDay/rcp85/CCSM4/high/SSP3')\n",
    "    \n",
    "elif model == 'uninteracted_main_model':\n",
    "    \n",
    "    proj_root = ('/shares/gcp/outputs/labor/impacts-woodwork/test_rcc/' +\n",
    "                 'uninteracted_splines_27_37_39_by_risk_empshare_noFE_YearlyAverageDay/rcp85/CCSM4/high/SSP3')\n",
    "    \n",
    "    output_root = ('/shares/gcp/outputs/labor/impacts-woodwork/test_rcc_copy/' +\n",
    "                 'uninteracted_splines_27_37_39_by_risk_empshare_noFE_YearlyAverageDay/rcp85/CCSM4/high/SSP3')\n",
    "\n",
    "else:\n",
    "\n",
    "    sys.exit(\"Your model is unrecognized.\")"
   ]
  },
  {
   "cell_type": "code",
   "execution_count": 3,
   "metadata": {},
   "outputs": [
    {
     "data": {
      "text/html": [
       "<table style=\"border: 2px solid white;\">\n",
       "<tr>\n",
       "<td style=\"vertical-align: top; border: 0px solid white\">\n",
       "<h3 style=\"text-align: left;\">Client</h3>\n",
       "<ul style=\"text-align: left; list-style: none; margin: 0; padding: 0;\">\n",
       "  <li><b>Scheduler: </b>tcp://127.0.0.1:42531</li>\n",
       "  <li><b>Dashboard: </b><a href='http://127.0.0.1:8787/status' target='_blank'>http://127.0.0.1:8787/status</a></li>\n",
       "</ul>\n",
       "</td>\n",
       "<td style=\"vertical-align: top; border: 0px solid white\">\n",
       "<h3 style=\"text-align: left;\">Cluster</h3>\n",
       "<ul style=\"text-align: left; list-style:none; margin: 0; padding: 0;\">\n",
       "  <li><b>Workers: </b>2</li>\n",
       "  <li><b>Cores: </b>12</li>\n",
       "  <li><b>Memory: </b>67.59 GB</li>\n",
       "</ul>\n",
       "</td>\n",
       "</tr>\n",
       "</table>"
      ],
      "text/plain": [
       "<Client: 'tcp://127.0.0.1:42531' processes=2 threads=12, memory=67.59 GB>"
      ]
     },
     "execution_count": 3,
     "metadata": {},
     "output_type": "execute_result"
    }
   ],
   "source": [
    "###############\n",
    "# DASK SETUP\n",
    "###############\n",
    "\n",
    "# change the link of the Client to the link in your Dask dashboard\n",
    "# this will be visible on the left of your JupyterLab window, in the Dask tab\n",
    "client = Client(\"tcp://127.0.0.1:42531\")\n",
    "client"
   ]
  },
  {
   "cell_type": "code",
   "execution_count": 4,
   "metadata": {},
   "outputs": [],
   "source": [
    "###############################\n",
    "# REBASE & COMBINE FUNCTION\n",
    "###############################\n",
    "\n",
    "def rebase_combine(proj_root, model, scenario):\n",
    "    \n",
    "    dt = xr.open_dataset(f'{proj_root}/{model}{scenario}.nc4',\n",
    "        chunks={'year': 1})\n",
    "\n",
    "    # there is an inconsistency in naming between dimensions and coordinates\n",
    "    # on the recommendation of Sir Ivan, we fix this\n",
    "    dt = dt.rename({'regions': 'region'})\n",
    "    dt = dt.assign_coords({'region': dt.region})\n",
    "\n",
    "    # select years & columns needed for rebasing\n",
    "    base = (dt.sel(\n",
    "            {\"year\": slice(2001,2010)}\n",
    "            )\n",
    "            [['region','highriskimpacts', 'lowriskimpacts']]\n",
    "           )\n",
    "\n",
    "    # subtract off mean of base years -> rebasing!\n",
    "    mean_base = base.mean(dim=\"year\")\n",
    "    rebased = dt - mean_base\n",
    "\n",
    "    # calculate combined, rebased impact\n",
    "    rebased['rebased_new'] = rebased.highriskimpacts * dt['clip'] + rebased.lowriskimpacts * (1 - dt['clip'])\n",
    "\n",
    "    # add back onto dataframe\n",
    "    dt['rebased_new'] = rebased.rebased_new\n",
    "\n",
    "    # set its attributes\n",
    "    dt.rebased_new.attrs = { 'long_title' : 'Rebased sum of results weighted on fractions of unity',\n",
    "                           'units' : 'minutes worked by individual',\n",
    "                           'source' : 'calculated as rebased_new = minlost_hi_rebased * riskshare_hi + minlost_lo_rebased * (1 - riskshare_hi)'}\n",
    "\n",
    "    return dt"
   ]
  },
  {
   "cell_type": "code",
   "execution_count": 5,
   "metadata": {},
   "outputs": [],
   "source": [
    "##############\n",
    "# IMPLEMENT\n",
    "##############\n",
    "\n",
    "args_list = zip(np.repeat(proj_root, repeats=len(scenarios)),\n",
    "                np.repeat(model, repeats=len(scenarios)),\n",
    "                scenarios)"
   ]
  },
  {
   "cell_type": "code",
   "execution_count": 6,
   "metadata": {},
   "outputs": [
    {
     "name": "stderr",
     "output_type": "stream",
     "text": [
      "/home/kschwarz/miniconda3/lib/python3.7/site-packages/xarray/conventions.py:190: SerializationWarning: variable orderofoperations has data in the form of a dask array with dtype=object, which means it is being loaded into memory to determine a data type that can be safely stored on disk. To avoid this, coerce this variable to a fixed-size dtype with astype() before saving it.\n",
      "  SerializationWarning,\n",
      "/home/kschwarz/miniconda3/lib/python3.7/site-packages/xarray/conventions.py:190: SerializationWarning: variable orderofoperations has data in the form of a dask array with dtype=object, which means it is being loaded into memory to determine a data type that can be safely stored on disk. To avoid this, coerce this variable to a fixed-size dtype with astype() before saving it.\n",
      "  SerializationWarning,\n",
      "/home/kschwarz/miniconda3/lib/python3.7/site-packages/xarray/conventions.py:190: SerializationWarning: variable orderofoperations has data in the form of a dask array with dtype=object, which means it is being loaded into memory to determine a data type that can be safely stored on disk. To avoid this, coerce this variable to a fixed-size dtype with astype() before saving it.\n",
      "  SerializationWarning,\n",
      "/home/kschwarz/miniconda3/lib/python3.7/site-packages/xarray/conventions.py:190: SerializationWarning: variable orderofoperations has data in the form of a dask array with dtype=object, which means it is being loaded into memory to determine a data type that can be safely stored on disk. To avoid this, coerce this variable to a fixed-size dtype with astype() before saving it.\n",
      "  SerializationWarning,\n"
     ]
    }
   ],
   "source": [
    "for proj_root, model, scenario in args_list:\n",
    "    ds = rebase_combine(proj_root, model, scenario)\n",
    "    ds.to_netcdf(f\"{output_root}/{model}{scenario}.nc4\")"
   ]
  }
 ],
 "metadata": {
  "kernelspec": {
   "display_name": "Python 3",
   "language": "python",
   "name": "python3"
  },
  "language_info": {
   "codemirror_mode": {
    "name": "ipython",
    "version": 3
   },
   "file_extension": ".py",
   "mimetype": "text/x-python",
   "name": "python",
   "nbconvert_exporter": "python",
   "pygments_lexer": "ipython3",
   "version": "3.7.7"
  }
 },
 "nbformat": 4,
 "nbformat_minor": 4
}
