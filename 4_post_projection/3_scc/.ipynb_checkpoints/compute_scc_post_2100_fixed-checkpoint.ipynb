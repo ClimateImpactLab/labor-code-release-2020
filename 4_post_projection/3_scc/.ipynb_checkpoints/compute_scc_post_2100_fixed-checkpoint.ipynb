{
 "cells": [
  {
   "cell_type": "markdown",
   "metadata": {},
   "source": [
    "# Estimating the SCC using CIL damage functions and the FAIR SCM\n",
    "\n",
    "This notebook builds on the [FAIR example notebook](./Example-Usage.ipynb) and adds an SCC simulation using damage functions from the Climate Impact Lab's mortality work.\n",
    "\n",
    "The experiment is conducted as follows:\n",
    "\n",
    "* Use the RCP scenarios as defined by the default FAIR model\n",
    "* Add an additional CO2 impulse (1 Gt C) to each trajectory in 2015\n",
    "* Compute damages using the resulting temperature trajectories\n",
    "* Subtract the damages in the standard RCPs from the damages in the pulse runs\n",
    "* Divide this value by the quantity of added CO2 (1 Gt C * 44.0098 / 12.011 = 3.66 Gt CO2) to achieve \\$/ton CO2\n",
    "* Compute the NPV of this time series of marginal damages using various discount rates\n",
    "\n",
    "All of this work and the source data can be found in the Climate Impact Lab's [FAIR-SCM repo](https://gitlab.com/ClimateImpactLab/Climate/FAIR-SCM) on gitlab.\n",
    "\n",
    "Version 0.3 update 6/22/18:\n",
    "Version 0.3 updates the damages calculation to take the linear extrapolation of the quadratic damage function for post-2099 periods as one alternative, or to hold the damage function constant at 2099 values for another alternative, and output both results. In addition, it is formatted to accept multiple scenarios within a given damage function .csv file, and select one of them for analysis and output.\n",
    "\n",
    "Update 10/4/18: Updated the FAIR temperature anomaly from 0.8C to 0.6C per Bob's instructions."
   ]
  },
  {
   "cell_type": "markdown",
   "metadata": {},
   "source": [
    "## Set up workspace"
   ]
  },
  {
   "cell_type": "code",
   "execution_count": 73,
   "metadata": {},
   "outputs": [],
   "source": [
    "%matplotlib inline"
   ]
  },
  {
   "cell_type": "code",
   "execution_count": 74,
   "metadata": {},
   "outputs": [
    {
     "name": "stdout",
     "output_type": "stream",
     "text": [
      "\u001b[33mDEPRECATION: Python 2.7 reached the end of its life on January 1st, 2020. Please upgrade your Python as Python 2.7 is no longer maintained. pip 21.0 will drop support for Python 2.7 in January 2021. More details about Python 2 support in pip, can be found at https://pip.pypa.io/en/latest/development/release-process/#python-2-support\u001b[0m\n",
      "Requirement already satisfied: fair==1.3.2 in /home/liruixue/miniconda3/envs/risingverse-py27/lib/python2.7/site-packages (1.3.2)\n",
      "Requirement already satisfied: numpy>=1.11.3 in /home/liruixue/miniconda3/envs/risingverse-py27/lib/python2.7/site-packages (from fair==1.3.2) (1.16.5)\n",
      "Requirement already satisfied: scipy>=0.19.0 in /home/liruixue/miniconda3/envs/risingverse-py27/lib/python2.7/site-packages (from fair==1.3.2) (1.2.1)\n"
     ]
    }
   ],
   "source": [
    "! pip install fair==1.3.2"
   ]
  },
  {
   "cell_type": "code",
   "execution_count": 75,
   "metadata": {},
   "outputs": [
    {
     "data": {
      "text/plain": [
       "u'1.3.2'"
      ]
     },
     "execution_count": 75,
     "metadata": {},
     "output_type": "execute_result"
    }
   ],
   "source": [
    "import sys\n",
    "sys.path.append('..')\n",
    "\n",
    "import fair\n",
    "fair.__version__"
   ]
  },
  {
   "cell_type": "code",
   "execution_count": 76,
   "metadata": {},
   "outputs": [],
   "source": [
    "import numpy as np\n",
    "import pandas as pd\n",
    "import xarray as xr\n",
    "\n",
    "try:\n",
    "    from StringIO import StringIO\n",
    "except ImportError:\n",
    "    from io import StringIO\n",
    "\n",
    "# from scc import load_fair\n",
    "import matplotlib\n",
    "from matplotlib import pyplot as plt\n",
    "from matplotlib import cm\n",
    "import seaborn as sns\n",
    "plt.style.use('seaborn-white')\n",
    "plt.rcParams['figure.figsize'] = (16, 9)\n",
    "\n",
    "from datetime import datetime\n",
    "\n",
    "import sys\n",
    "sys.path.append('./functions/.')\n",
    "import load_fair"
   ]
  },
  {
   "cell_type": "code",
   "execution_count": 77,
   "metadata": {},
   "outputs": [],
   "source": [
    "# Make this labor specific\n",
    "\n",
    "model = \"poly4_below0bin\"\n",
    "df = \"quadratic\"\n",
    "clim_data = \"GMFD\"\n",
    "#grp_test = \"semi-parametric\"\n",
    "OUTPUT_path = \"/home/liruixue/repos/labor-code-release-2020/output/damage_function\"\n",
    "INPUT_path = \"/home/liruixue/repos/labor-code-release-2020/output/damage_function\""
   ]
  },
  {
   "cell_type": "markdown",
   "metadata": {},
   "source": [
    "# SCC\n",
    "\n",
    "We can compute the SCC by adding an additional pulse in CO2 emissions to the RCP trajectory."
   ]
  },
  {
   "cell_type": "markdown",
   "metadata": {},
   "source": [
    "--------------------------------------------------------------------------\n",
    "## RCPs\n",
    "\n",
    "We can run FAIR with the CO$_2$ emissions and non-CO$_2$ forcing from the four\n",
    "representative concentration pathway scenarios.\n",
    "\n",
    "By default in multi-gas mode, volcanic and solar forcing plus natural emissions\n",
    "of methane and nitrous oxide are switched on.\n",
    "\n",
    "We can compute the SCC by adding an additional pulse in CO2 emissions to the\n",
    "RCP trajectory.\n",
    "\n",
    "This study uses a 1 Gt C emissions pulse. You can change the pulse amount by\n",
    "modifying the PULSE_AMT variable. \n",
    "\n",
    "--------------------------------------------------------------------------\n",
    "\n",
    "### Scenario design\n",
    "\n",
    "This study uses a 100 Gt C emissions pulse. You can change the pulse amount by modifying the `PULSE_AMT` variable below, and adapting the `CONVERSION` value to match."
   ]
  },
  {
   "cell_type": "code",
   "execution_count": 78,
   "metadata": {},
   "outputs": [],
   "source": [
    "PULSE_YEAR = 2015  # year in which pulse will be emitted\n",
    "PULSE_AMT = 1.0  # in Gt C = 1e9 ton C\n",
    "\n",
    "# CONVERSION is in units of [pulse/tCO2] = [1 pulse/PULSE_AMT GtC * 1 GtC/1e9 tC * 12tC/44tCO2]\n",
    "# This is used to convert costs ($Bn / pulse) to SCC ($/ton CO2), but the $Bn to $ conversion is separate.\n",
    "# Therefore, it should be the inverse of any changes to PULSE_AMT\n",
    "CONVERSION = 1.0 / PULSE_AMT / 1e9 * 12.011 / 44.0098"
   ]
  },
  {
   "cell_type": "code",
   "execution_count": 79,
   "metadata": {},
   "outputs": [
    {
     "name": "stdout",
     "output_type": "stream",
     "text": [
      "Finished loading FAIR\n"
     ]
    }
   ],
   "source": [
    "fair_temperatures_anomaly = load_fair.temperatures_anomaly(PULSE_YEAR = PULSE_YEAR, PULSE_AMT = PULSE_AMT, make_plots = False, output = OUTPUT_path)"
   ]
  },
  {
   "cell_type": "markdown",
   "metadata": {},
   "source": [
    "## Incorporate a single damage function\n",
    "\n",
    "This is the damage function from Tamma, with a set of coefficients for each year.\n",
    "\n",
    "Version 0.3 update: The damage function can now be held constant or allowed to vary post-2099. Additionally, different valuation scenarios can be selected within the damage function .csv file. See comments in the document header. \n",
    "\n",
    "Note: damages are estimated in  2005 \\$PPP, so use the U.S. GDP deflator for 2005 from the World Bank. Take the ratio with the `PULSE_YEAR` deflator (U.S. GDP deflator for the pulse_year from the World Bank) to convert the dollars from 2005 \\$PPP to `PULSE_YEAR` $PPP."
   ]
  },
  {
   "cell_type": "code",
   "execution_count": 80,
   "metadata": {},
   "outputs": [],
   "source": [
    "\n",
    "version = 'v0.3'\n",
    "\n",
    "# change stuff here #\n",
    "specification = 'labor_main_model'\n",
    "stem = \"damage_function_estimation\"\n",
    "#######################\n",
    "\n",
    "MAGNITUDE_OF_DAMAGES = 1  # magnitude of damage function values\n",
    "DAMAGES_DEFLATOR = 90.8776 # Damages based year is 2005, with this World Bank US GDP deflator\n",
    "PULSE_DEFLATOR = 108.6850 # Update for the pulse base year (currently 2015) -- use the World Bank US GDP deflator for that year.\n",
    "BASE_YEAR_CONVERSION = 1\n",
    "# PULSE_DEFLATOR / DAMAGES_DEFLATOR  # Converts from Damages_year $ to Pulse_year $\n",
    "\n",
    "# Toggle to generate plots or not\n",
    "generate_plots = True\n",
    "\n",
    "# Run options: which damages scenario to run, and whether or not to hold the post-2099 damage function constant.\n",
    "# scenario_to_run = 'peakprice014'  # 'price0', 'price014', 'price03', 'price05', 'peakprice014'\n",
    "hold_2099_damages_fixed = True\n",
    "damage_func_form = df # 'quadratic' or 'cubic'\n",
    "\n",
    "import os, glob\n",
    "\n",
    "# Time the SCC calculation\n",
    "startTime = datetime.now()\n",
    "\n",
    "# Make sure the 'year' and 'growth_rate' columns are the first two columns in the damage function .csv\n",
    "fps = glob.glob('{}/{}.csv'.format(INPUT_path,stem))\n"
   ]
  },
  {
   "cell_type": "code",
   "execution_count": 81,
   "metadata": {},
   "outputs": [
    {
     "data": {
      "text/plain": [
       "['/home/liruixue/repos/labor-code-release-2020/output/damage_function/damage_function_estimation.csv']"
      ]
     },
     "execution_count": 81,
     "metadata": {},
     "output_type": "execute_result"
    }
   ],
   "source": [
    "fps "
   ]
  },
  {
   "cell_type": "code",
   "execution_count": 82,
   "metadata": {},
   "outputs": [],
   "source": [
    "def read_damage_func(fp):\n",
    "    data = pd.read_csv(fps[0], index_col = [3])\n",
    "    data = data[[\"cons\",\"beta1\",\"beta2\"]]\n",
    "    data.columns.names = ['coeff']\n",
    "    return data.stack('coeff').to_xarray()\n",
    "\n",
    "ds = xr.Dataset({\n",
    "    os.path.splitext(os.path.basename(fp))[0]: read_damage_func(fp) for fp in fps\n",
    "})"
   ]
  },
  {
   "cell_type": "code",
   "execution_count": 83,
   "metadata": {
    "scrolled": true
   },
   "outputs": [
    {
     "data": {
      "text/plain": [
       "<xarray.Dataset>\n",
       "Dimensions:                     (coeff: 3, year: 285)\n",
       "Coordinates:\n",
       "  * year                        (year) int64 2015 2016 2017 ... 2298 2299 2300\n",
       "  * coeff                       (coeff) object 'cons' 'beta1' 'beta2'\n",
       "Data variables:\n",
       "    damage_function_estimation  (year, coeff) float64 1.78e+09 ... 5.51e+11"
      ]
     },
     "execution_count": 83,
     "metadata": {},
     "output_type": "execute_result"
    }
   ],
   "source": [
    "ds"
   ]
  },
  {
   "cell_type": "code",
   "execution_count": 84,
   "metadata": {},
   "outputs": [
    {
     "ename": "KeyError",
     "evalue": "2099",
     "output_type": "error",
     "traceback": [
      "\u001b[0;31m---------------------------------------------------------------------------\u001b[0m",
      "\u001b[0;31mKeyError\u001b[0m                                  Traceback (most recent call last)",
      "\u001b[0;32m<ipython-input-84-6061a5fe7cf6>\u001b[0m in \u001b[0;36m<module>\u001b[0;34m()\u001b[0m\n\u001b[1;32m     15\u001b[0m \u001b[0;32mif\u001b[0m \u001b[0mhold_2099_damages_fixed\u001b[0m\u001b[0;34m:\u001b[0m\u001b[0;34m\u001b[0m\u001b[0m\n\u001b[1;32m     16\u001b[0m     \u001b[0mmask\u001b[0m \u001b[0;34m=\u001b[0m \u001b[0mcoeffs_all_years\u001b[0m\u001b[0;34m[\u001b[0m\u001b[0;34m'year'\u001b[0m\u001b[0;34m]\u001b[0m \u001b[0;34m>\u001b[0m \u001b[0;36m2099\u001b[0m\u001b[0;34m\u001b[0m\u001b[0m\n\u001b[0;32m---> 17\u001b[0;31m     \u001b[0mcoeffs_2099\u001b[0m \u001b[0;34m=\u001b[0m \u001b[0mcoeffs_all_years\u001b[0m\u001b[0;34m.\u001b[0m\u001b[0msel\u001b[0m\u001b[0;34m(\u001b[0m\u001b[0myear\u001b[0m\u001b[0;34m=\u001b[0m\u001b[0;36m2099\u001b[0m\u001b[0;34m)\u001b[0m\u001b[0;34m\u001b[0m\u001b[0m\n\u001b[0m\u001b[1;32m     18\u001b[0m     \u001b[0mcoeffs_all_years\u001b[0m \u001b[0;34m=\u001b[0m \u001b[0mxr\u001b[0m\u001b[0;34m.\u001b[0m\u001b[0mwhere\u001b[0m\u001b[0;34m(\u001b[0m\u001b[0mmask\u001b[0m\u001b[0;34m,\u001b[0m \u001b[0mcoeffs_2099\u001b[0m\u001b[0;34m,\u001b[0m \u001b[0mcoeffs_all_years\u001b[0m\u001b[0;34m)\u001b[0m\u001b[0;34m\u001b[0m\u001b[0m\n",
      "\u001b[0;32m/home/liruixue/miniconda3/envs/risingverse-py27/lib/python2.7/site-packages/xarray/core/dataset.pyc\u001b[0m in \u001b[0;36msel\u001b[0;34m(self, indexers, method, tolerance, drop, **indexers_kwargs)\u001b[0m\n\u001b[1;32m   1619\u001b[0m         \u001b[0mindexers\u001b[0m \u001b[0;34m=\u001b[0m \u001b[0meither_dict_or_kwargs\u001b[0m\u001b[0;34m(\u001b[0m\u001b[0mindexers\u001b[0m\u001b[0;34m,\u001b[0m \u001b[0mindexers_kwargs\u001b[0m\u001b[0;34m,\u001b[0m \u001b[0;34m'sel'\u001b[0m\u001b[0;34m)\u001b[0m\u001b[0;34m\u001b[0m\u001b[0m\n\u001b[1;32m   1620\u001b[0m         pos_indexers, new_indexes = remap_label_indexers(\n\u001b[0;32m-> 1621\u001b[0;31m             self, indexers=indexers, method=method, tolerance=tolerance)\n\u001b[0m\u001b[1;32m   1622\u001b[0m         \u001b[0mresult\u001b[0m \u001b[0;34m=\u001b[0m \u001b[0mself\u001b[0m\u001b[0;34m.\u001b[0m\u001b[0misel\u001b[0m\u001b[0;34m(\u001b[0m\u001b[0mindexers\u001b[0m\u001b[0;34m=\u001b[0m\u001b[0mpos_indexers\u001b[0m\u001b[0;34m,\u001b[0m \u001b[0mdrop\u001b[0m\u001b[0;34m=\u001b[0m\u001b[0mdrop\u001b[0m\u001b[0;34m)\u001b[0m\u001b[0;34m\u001b[0m\u001b[0m\n\u001b[1;32m   1623\u001b[0m         \u001b[0;32mreturn\u001b[0m \u001b[0mresult\u001b[0m\u001b[0;34m.\u001b[0m\u001b[0m_replace_indexes\u001b[0m\u001b[0;34m(\u001b[0m\u001b[0mnew_indexes\u001b[0m\u001b[0;34m)\u001b[0m\u001b[0;34m\u001b[0m\u001b[0m\n",
      "\u001b[0;32m/home/liruixue/miniconda3/envs/risingverse-py27/lib/python2.7/site-packages/xarray/core/coordinates.pyc\u001b[0m in \u001b[0;36mremap_label_indexers\u001b[0;34m(obj, indexers, method, tolerance, **indexers_kwargs)\u001b[0m\n\u001b[1;32m    353\u001b[0m \u001b[0;34m\u001b[0m\u001b[0m\n\u001b[1;32m    354\u001b[0m     pos_indexers, new_indexes = indexing.remap_label_indexers(\n\u001b[0;32m--> 355\u001b[0;31m         \u001b[0mobj\u001b[0m\u001b[0;34m,\u001b[0m \u001b[0mv_indexers\u001b[0m\u001b[0;34m,\u001b[0m \u001b[0mmethod\u001b[0m\u001b[0;34m=\u001b[0m\u001b[0mmethod\u001b[0m\u001b[0;34m,\u001b[0m \u001b[0mtolerance\u001b[0m\u001b[0;34m=\u001b[0m\u001b[0mtolerance\u001b[0m\u001b[0;34m\u001b[0m\u001b[0m\n\u001b[0m\u001b[1;32m    356\u001b[0m     )\n\u001b[1;32m    357\u001b[0m     \u001b[0;31m# attach indexer's coordinate to pos_indexers\u001b[0m\u001b[0;34m\u001b[0m\u001b[0;34m\u001b[0m\u001b[0m\n",
      "\u001b[0;32m/home/liruixue/miniconda3/envs/risingverse-py27/lib/python2.7/site-packages/xarray/core/indexing.pyc\u001b[0m in \u001b[0;36mremap_label_indexers\u001b[0;34m(data_obj, indexers, method, tolerance)\u001b[0m\n\u001b[1;32m    248\u001b[0m         \u001b[0;32melse\u001b[0m\u001b[0;34m:\u001b[0m\u001b[0;34m\u001b[0m\u001b[0m\n\u001b[1;32m    249\u001b[0m             idxr, new_idx = convert_label_indexer(index, label,\n\u001b[0;32m--> 250\u001b[0;31m                                                   dim, method, tolerance)\n\u001b[0m\u001b[1;32m    251\u001b[0m             \u001b[0mpos_indexers\u001b[0m\u001b[0;34m[\u001b[0m\u001b[0mdim\u001b[0m\u001b[0;34m]\u001b[0m \u001b[0;34m=\u001b[0m \u001b[0midxr\u001b[0m\u001b[0;34m\u001b[0m\u001b[0m\n\u001b[1;32m    252\u001b[0m             \u001b[0;32mif\u001b[0m \u001b[0mnew_idx\u001b[0m \u001b[0;32mis\u001b[0m \u001b[0;32mnot\u001b[0m \u001b[0mNone\u001b[0m\u001b[0;34m:\u001b[0m\u001b[0;34m\u001b[0m\u001b[0m\n",
      "\u001b[0;32m/home/liruixue/miniconda3/envs/risingverse-py27/lib/python2.7/site-packages/xarray/core/indexing.pyc\u001b[0m in \u001b[0;36mconvert_label_indexer\u001b[0;34m(index, label, index_name, method, tolerance)\u001b[0m\n\u001b[1;32m    177\u001b[0m                 \u001b[0mindexer\u001b[0m\u001b[0;34m,\u001b[0m \u001b[0mnew_index\u001b[0m \u001b[0;34m=\u001b[0m \u001b[0mindex\u001b[0m\u001b[0;34m.\u001b[0m\u001b[0mget_loc_level\u001b[0m\u001b[0;34m(\u001b[0m\u001b[0mlabel\u001b[0m\u001b[0;34m.\u001b[0m\u001b[0mitem\u001b[0m\u001b[0;34m(\u001b[0m\u001b[0;34m)\u001b[0m\u001b[0;34m,\u001b[0m \u001b[0mlevel\u001b[0m\u001b[0;34m=\u001b[0m\u001b[0;36m0\u001b[0m\u001b[0;34m)\u001b[0m\u001b[0;34m\u001b[0m\u001b[0m\n\u001b[1;32m    178\u001b[0m             \u001b[0;32melse\u001b[0m\u001b[0;34m:\u001b[0m\u001b[0;34m\u001b[0m\u001b[0m\n\u001b[0;32m--> 179\u001b[0;31m                 \u001b[0mindexer\u001b[0m \u001b[0;34m=\u001b[0m \u001b[0mget_loc\u001b[0m\u001b[0;34m(\u001b[0m\u001b[0mindex\u001b[0m\u001b[0;34m,\u001b[0m \u001b[0mlabel\u001b[0m\u001b[0;34m.\u001b[0m\u001b[0mitem\u001b[0m\u001b[0;34m(\u001b[0m\u001b[0;34m)\u001b[0m\u001b[0;34m,\u001b[0m \u001b[0mmethod\u001b[0m\u001b[0;34m,\u001b[0m \u001b[0mtolerance\u001b[0m\u001b[0;34m)\u001b[0m\u001b[0;34m\u001b[0m\u001b[0m\n\u001b[0m\u001b[1;32m    180\u001b[0m         \u001b[0;32melif\u001b[0m \u001b[0mlabel\u001b[0m\u001b[0;34m.\u001b[0m\u001b[0mdtype\u001b[0m\u001b[0;34m.\u001b[0m\u001b[0mkind\u001b[0m \u001b[0;34m==\u001b[0m \u001b[0;34m'b'\u001b[0m\u001b[0;34m:\u001b[0m\u001b[0;34m\u001b[0m\u001b[0m\n\u001b[1;32m    181\u001b[0m             \u001b[0mindexer\u001b[0m \u001b[0;34m=\u001b[0m \u001b[0mlabel\u001b[0m\u001b[0;34m\u001b[0m\u001b[0m\n",
      "\u001b[0;32m/home/liruixue/miniconda3/envs/risingverse-py27/lib/python2.7/site-packages/xarray/core/indexing.pyc\u001b[0m in \u001b[0;36mget_loc\u001b[0;34m(index, label, method, tolerance)\u001b[0m\n\u001b[1;32m    107\u001b[0m \u001b[0;32mdef\u001b[0m \u001b[0mget_loc\u001b[0m\u001b[0;34m(\u001b[0m\u001b[0mindex\u001b[0m\u001b[0;34m,\u001b[0m \u001b[0mlabel\u001b[0m\u001b[0;34m,\u001b[0m \u001b[0mmethod\u001b[0m\u001b[0;34m=\u001b[0m\u001b[0mNone\u001b[0m\u001b[0;34m,\u001b[0m \u001b[0mtolerance\u001b[0m\u001b[0;34m=\u001b[0m\u001b[0mNone\u001b[0m\u001b[0;34m)\u001b[0m\u001b[0;34m:\u001b[0m\u001b[0;34m\u001b[0m\u001b[0m\n\u001b[1;32m    108\u001b[0m     \u001b[0mkwargs\u001b[0m \u001b[0;34m=\u001b[0m \u001b[0m_index_method_kwargs\u001b[0m\u001b[0;34m(\u001b[0m\u001b[0mmethod\u001b[0m\u001b[0;34m,\u001b[0m \u001b[0mtolerance\u001b[0m\u001b[0;34m)\u001b[0m\u001b[0;34m\u001b[0m\u001b[0m\n\u001b[0;32m--> 109\u001b[0;31m     \u001b[0;32mreturn\u001b[0m \u001b[0mindex\u001b[0m\u001b[0;34m.\u001b[0m\u001b[0mget_loc\u001b[0m\u001b[0;34m(\u001b[0m\u001b[0mlabel\u001b[0m\u001b[0;34m,\u001b[0m \u001b[0;34m**\u001b[0m\u001b[0mkwargs\u001b[0m\u001b[0;34m)\u001b[0m\u001b[0;34m\u001b[0m\u001b[0m\n\u001b[0m\u001b[1;32m    110\u001b[0m \u001b[0;34m\u001b[0m\u001b[0m\n\u001b[1;32m    111\u001b[0m \u001b[0;34m\u001b[0m\u001b[0m\n",
      "\u001b[0;32m/home/liruixue/miniconda3/envs/risingverse-py27/lib/python2.7/site-packages/pandas/core/indexes/base.pyc\u001b[0m in \u001b[0;36mget_loc\u001b[0;34m(self, key, method, tolerance)\u001b[0m\n\u001b[1;32m   2657\u001b[0m                 \u001b[0;32mreturn\u001b[0m \u001b[0mself\u001b[0m\u001b[0;34m.\u001b[0m\u001b[0m_engine\u001b[0m\u001b[0;34m.\u001b[0m\u001b[0mget_loc\u001b[0m\u001b[0;34m(\u001b[0m\u001b[0mkey\u001b[0m\u001b[0;34m)\u001b[0m\u001b[0;34m\u001b[0m\u001b[0m\n\u001b[1;32m   2658\u001b[0m             \u001b[0;32mexcept\u001b[0m \u001b[0mKeyError\u001b[0m\u001b[0;34m:\u001b[0m\u001b[0;34m\u001b[0m\u001b[0m\n\u001b[0;32m-> 2659\u001b[0;31m                 \u001b[0;32mreturn\u001b[0m \u001b[0mself\u001b[0m\u001b[0;34m.\u001b[0m\u001b[0m_engine\u001b[0m\u001b[0;34m.\u001b[0m\u001b[0mget_loc\u001b[0m\u001b[0;34m(\u001b[0m\u001b[0mself\u001b[0m\u001b[0;34m.\u001b[0m\u001b[0m_maybe_cast_indexer\u001b[0m\u001b[0;34m(\u001b[0m\u001b[0mkey\u001b[0m\u001b[0;34m)\u001b[0m\u001b[0;34m)\u001b[0m\u001b[0;34m\u001b[0m\u001b[0m\n\u001b[0m\u001b[1;32m   2660\u001b[0m         \u001b[0mindexer\u001b[0m \u001b[0;34m=\u001b[0m \u001b[0mself\u001b[0m\u001b[0;34m.\u001b[0m\u001b[0mget_indexer\u001b[0m\u001b[0;34m(\u001b[0m\u001b[0;34m[\u001b[0m\u001b[0mkey\u001b[0m\u001b[0;34m]\u001b[0m\u001b[0;34m,\u001b[0m \u001b[0mmethod\u001b[0m\u001b[0;34m=\u001b[0m\u001b[0mmethod\u001b[0m\u001b[0;34m,\u001b[0m \u001b[0mtolerance\u001b[0m\u001b[0;34m=\u001b[0m\u001b[0mtolerance\u001b[0m\u001b[0;34m)\u001b[0m\u001b[0;34m\u001b[0m\u001b[0m\n\u001b[1;32m   2661\u001b[0m         \u001b[0;32mif\u001b[0m \u001b[0mindexer\u001b[0m\u001b[0;34m.\u001b[0m\u001b[0mndim\u001b[0m \u001b[0;34m>\u001b[0m \u001b[0;36m1\u001b[0m \u001b[0;32mor\u001b[0m \u001b[0mindexer\u001b[0m\u001b[0;34m.\u001b[0m\u001b[0msize\u001b[0m \u001b[0;34m>\u001b[0m \u001b[0;36m1\u001b[0m\u001b[0;34m:\u001b[0m\u001b[0;34m\u001b[0m\u001b[0m\n",
      "\u001b[0;32mpandas/_libs/index.pyx\u001b[0m in \u001b[0;36mpandas._libs.index.IndexEngine.get_loc\u001b[0;34m()\u001b[0m\n",
      "\u001b[0;32mpandas/_libs/index.pyx\u001b[0m in \u001b[0;36mpandas._libs.index.IndexEngine.get_loc\u001b[0;34m()\u001b[0m\n",
      "\u001b[0;32mpandas/_libs/hashtable_class_helper.pxi\u001b[0m in \u001b[0;36mpandas._libs.hashtable.Int64HashTable.get_item\u001b[0;34m()\u001b[0m\n",
      "\u001b[0;32mpandas/_libs/hashtable_class_helper.pxi\u001b[0m in \u001b[0;36mpandas._libs.hashtable.Int64HashTable.get_item\u001b[0;34m()\u001b[0m\n",
      "\u001b[0;31mKeyError\u001b[0m: 2099"
     ]
    }
   ],
   "source": [
    "# The placeholder dimension is not used. The line .sel(placeholder='ss') will get rid of it.\n",
    "\n",
    "####### Change stuff here to deal with placeholders\n",
    "coeffs_all_years = (\n",
    "    ds.to_array(dim='variable').to_series().unstack('year')\n",
    "    .reindex(list(range(2015, 2301)), axis=1)\n",
    "    .stack('year')\n",
    "    .unstack('coeff')\n",
    "    .to_xarray()\n",
    ")\n",
    "###########################\n",
    "\n",
    "# The following operation reorders the 'variable' and 'year' coordinates. This causes errors when plotting.\n",
    "# I can't get it to not do that here, but I fix it when damages are calculated below with a transpose() call.\n",
    "if hold_2099_damages_fixed:\n",
    "    mask = coeffs_all_years['year'] > 2099\n",
    "    coeffs_2099 = coeffs_all_years.sel(year=2099)\n",
    "    coeffs_all_years = xr.where(mask, coeffs_2099, coeffs_all_years)"
   ]
  },
  {
   "cell_type": "code",
   "execution_count": null,
   "metadata": {},
   "outputs": [],
   "source": [
    "coeffs_all_years = coeffs_all_years.sel(variable=stem)\n",
    "coeffs_all_years"
   ]
  },
  {
   "cell_type": "code",
   "execution_count": null,
   "metadata": {},
   "outputs": [],
   "source": [
    "df = coeffs_all_years.to_dataframe().reset_index()\n",
    "df[df.year == 2098]"
   ]
  },
  {
   "cell_type": "code",
   "execution_count": null,
   "metadata": {},
   "outputs": [],
   "source": []
  },
  {
   "cell_type": "code",
   "execution_count": null,
   "metadata": {
    "scrolled": true
   },
   "outputs": [],
   "source": [
    "# Potential change spot!!!!\n",
    "# Growth_rate is the energy price scenario -- change for given sector's needs\n",
    "\n",
    "if generate_plots:\n",
    "    fig, axes = plt.subplots(1, 3, figsize=(15, 4))\n",
    "\n",
    "    for i, coeff in enumerate(['cons', 'beta1', 'beta2']):\n",
    "        lines = coeffs_all_years[coeff].plot.line(\n",
    "            x='year', ax=axes[i], add_legend=False, \n",
    "            color=matplotlib.cm.Blues_r(1) )\n",
    "        axes[i].set_title(coeff)\n",
    "\n",
    "    sns.despine()"
   ]
  },
  {
   "cell_type": "code",
   "execution_count": null,
   "metadata": {},
   "outputs": [],
   "source": [
    "coeffs_all_years['cons']"
   ]
  },
  {
   "cell_type": "code",
   "execution_count": null,
   "metadata": {},
   "outputs": [],
   "source": [
    "powers = xr.DataArray(\n",
    "        np.arange(0, 11),\n",
    "        dims=['coeff'],\n",
    "        coords=[['cons'] + ['beta{}'.format(i) for i in range(1, 11)]])\n",
    "\n",
    "# Potential change spot!!!!\n",
    "# Growth_rate is the energy price scenario -- change for given sector's needs\n",
    "\n",
    "if generate_plots:\n",
    "    temps = np.linspace(-5, 20, 1101)\n",
    "    temps = xr.DataArray(temps, dims=['temp'], coords=[temps])\n",
    "\n",
    "    numvars = 1\n",
    "    fig, axes = plt.subplots((numvars+1)//2, min(2, numvars), figsize=(15, 15))\n",
    "\n",
    "    if numvars == 1:\n",
    "        axes = np.array([[axes]])\n",
    "\n",
    "    # dot product of coeffs and powers of temp\n",
    "    spaghetti = (\n",
    "        (coeffs_all_years.to_array('coeff') * (temps ** powers)).sum(dim='coeff'))\n",
    "\n",
    "    lines = []\n",
    "    for y in reversed(coeffs_all_years.year.values[:186:5]):\n",
    "        lines.append(\n",
    "            axes[0,0].plot(\n",
    "                temps.values,\n",
    "                spaghetti.sel(year=y).values,\n",
    "                color=matplotlib.cm.Blues_r((y-2015.0)/(2200-2000)),\n",
    "                label=int(y)))\n",
    "\n",
    "    axes[0,0].set_facecolor('white')\n",
    "    axes[0,0].set_title(\"damage functions\")\n",
    "\n",
    "    plt.subplots_adjust(right=0.85)\n",
    "    axes[0, -1].legend(\n",
    "        list(reversed(lines))[::5],\n",
    "        labels=list(reversed(coeffs_all_years.year.values[:186]))[::5],\n",
    "        loc='center left',\n",
    "        bbox_to_anchor=(1.01, (1-(((numvars-1)//2)%2))*0.5))\n",
    "    fig.set_facecolor('white')\n",
    "\n",
    "    sns.despine()\n",
    "    fig.savefig('{}/damage_functions_{}_{}_{}_2200-fixed-{}.pdf'.format(OUTPUT_path, specification, version, damage_func_form, hold_2099_damages_fixed))\n",
    "    "
   ]
  },
  {
   "cell_type": "code",
   "execution_count": null,
   "metadata": {},
   "outputs": [],
   "source": [
    "coeffs_all_years"
   ]
  },
  {
   "cell_type": "markdown",
   "metadata": {},
   "source": [
    "### Compute damages"
   ]
  },
  {
   "cell_type": "markdown",
   "metadata": {},
   "source": [
    "Combine the damage function coefficients with the FAIR temperatures:\n",
    "\n",
    "$$d_y = c_2*T_y^2+C_1*T_y+C_0 \\hspace{1in}\\forall \\hspace{0.1in} y \\in [2015, 2300]$$"
   ]
  },
  {
   "cell_type": "code",
   "execution_count": null,
   "metadata": {},
   "outputs": [],
   "source": [
    "# Just checking things out\n",
    "\n",
    "coeffs_all_years.to_array('coeff')\n",
    "powers\n",
    "fair_temperatures_anomaly\n",
    "#fair_temperatures_anomaly ** powers\n",
    "#coeffs_all_years.to_array('coeff') * (fair_temperatures_anomaly ** powers)"
   ]
  },
  {
   "cell_type": "code",
   "execution_count": null,
   "metadata": {},
   "outputs": [],
   "source": [
    "# Potential change spot!!!!\n",
    "# Growth_rate is the energy price scenario -- change for given sector's needs\n",
    "\n",
    "damages = (\n",
    "    (coeffs_all_years.to_array('coeff') * (fair_temperatures_anomaly ** powers)).sum(dim='coeff')*BASE_YEAR_CONVERSION)\n",
    "\n",
    "# Fix the coordinate re-order bug introduced by holding the damage function constant post-2099.\n",
    "damages = damages.transpose('year', 'pulse', 'rcp')"
   ]
  },
  {
   "cell_type": "code",
   "execution_count": null,
   "metadata": {
    "scrolled": true
   },
   "outputs": [],
   "source": [
    "damages = damages.sel(rcp=['rcp45', 'rcp85'])\n",
    "\n",
    "damages"
   ]
  },
  {
   "cell_type": "markdown",
   "metadata": {},
   "source": [
    "### Plot time series of damages"
   ]
  },
  {
   "cell_type": "code",
   "execution_count": null,
   "metadata": {},
   "outputs": [],
   "source": [
    "# Potential change spot!!!!\n",
    "# Growth_rate is the energy price scenario -- change for given sector's needs\n",
    "\n",
    "if generate_plots:\n",
    "    numvars = 1\n",
    "    fig, ax = plt.subplots((numvars+1)//2, min(2, numvars), figsize=(15, 15))\n",
    "\n",
    "    colors = ['green', 'blue', 'red', 'black']\n",
    "    styles = ['solid', 'dashed']\n",
    "\n",
    "    lines = []\n",
    "    labels = []\n",
    "    for r, rcp in enumerate(damages.rcp.values):\n",
    "        for p, pulse in enumerate(damages.pulse.values):\n",
    "\n",
    "            labels.append('{}{}'.format(rcp, ['', '+'][p]))\n",
    "            lines.append(\n",
    "                ax.plot(\n",
    "                    damages.year,\n",
    "                    damages.sel(rcp=rcp, pulse=pulse),\n",
    "                    color=colors[r],\n",
    "                    linestyle=styles[p])[0])\n",
    "\n",
    "    ax.set_title('Time series of damages by scenario (2019 USD)')\n",
    "    ax.legend(lines, labels)\n",
    "                \n",
    "\n",
    "    #plt.legend(lines, labels)\n",
    "    #ax.axes.set_title(\n",
    "    #    'Time series of damages by scenario (2019 USD)',\n",
    "    #    size=14)\n",
    "\n",
    "    sns.despine()\n",
    "\n",
    "    fig.savefig('{}/damage_projections_{}_{}_{}_2099-fixed-{}.pdf'.format(OUTPUT_path, specification, version, damage_func_form, hold_2099_damages_fixed))\n",
    "    "
   ]
  },
  {
   "cell_type": "markdown",
   "metadata": {},
   "source": [
    "### Plot time series of damages incurred due to pulse"
   ]
  },
  {
   "cell_type": "code",
   "execution_count": null,
   "metadata": {},
   "outputs": [],
   "source": [
    "# Potential change spot!!!!\n",
    "# Growth_rate is the energy price scenario -- change for given sector's needs\n",
    "\n",
    "if generate_plots:\n",
    "    fig, axes = plt.subplots((numvars+1)//2, min(2, numvars), figsize=(12, 8))\n",
    "\n",
    "    if numvars == 1:\n",
    "        axes = np.array([[axes]])\n",
    "\n",
    "#    for vi, var in enumerate(damages['growth_rate'].values):\n",
    "    (damages * MAGNITUDE_OF_DAMAGES * CONVERSION).diff(dim='pulse').sel(pulse='pulse').plot.line(x='year', ax=axes[0,0])\n",
    "    axes[0,0].axes.set_title(\n",
    "        'Time series of damages incurred due to pulse (2019 USD / ton CO2)\\n',\n",
    "        size=11)\n",
    "\n",
    "    sns.despine()\n",
    "    plt.tight_layout()\n",
    "    plt.savefig('{}/damage_projections_pulse_{}_{}_{}_2099-fixed-{}.pdf'.format(OUTPUT_path, specification, version, damage_func_form, hold_2099_damages_fixed))"
   ]
  },
  {
   "cell_type": "markdown",
   "metadata": {},
   "source": [
    "### Compue the SCC (NPV of damages)"
   ]
  },
  {
   "cell_type": "markdown",
   "metadata": {},
   "source": [
    "discount the time series of damages using the formula\n",
    "\n",
    "$$SCC=\\sum_{y\\in\\left[2015, 2300\\right]}{\\frac{d_y}{\\left({1+r}\\right)^{y-2015}}}$$"
   ]
  },
  {
   "cell_type": "markdown",
   "metadata": {},
   "source": [
    "### Plot the current equivalent damage time series"
   ]
  },
  {
   "cell_type": "code",
   "execution_count": null,
   "metadata": {},
   "outputs": [],
   "source": [
    "# Potential change spot!!!!\n",
    "# Growth_rate is the energy price scenario -- change for given sector's needs\n",
    "\n",
    "discrates = [1.,2.5, 3., 5.]\n",
    "\n",
    "discdata = []\n",
    "for r in discrates:\n",
    "    discdata.append(damages / (1+r/100)**(damages.year - 2015))\n",
    "\n",
    "current_equivalent_damages = xr.concat(discdata, dim=pd.Index(discrates, name='discrate'))\n",
    "\n",
    "rcp = 'rcp85'\n",
    "if generate_plots: \n",
    "    fig, axes = plt.subplots((numvars+1)//2, min(2, numvars), figsize=(12, 8))\n",
    "\n",
    "    if numvars == 1:\n",
    "        axes = np.array([[axes]])\n",
    "\n",
    "    (current_equivalent_damages.sel(rcp=rcp) * MAGNITUDE_OF_DAMAGES * CONVERSION).diff(dim='pulse').sel(pulse='pulse').plot.line(x='year', ax=axes[0,0])\n",
    "    axes[0,0].axes.set_title(\n",
    "        'Current equivalent damages incurred due to pulse (USD / ton CO2)\\n RCP: {}'.format(rcp),\n",
    "        size=11)\n",
    "\n",
    "    sns.despine()\n",
    "    plt.tight_layout()\n",
    "    plt.savefig('{}/current_equivalent_damage_projections_pulse_{}_{}_{}-fixed-{}.pdf'.format(OUTPUT_path, specification, version, damage_func_form, hold_2099_damages_fixed))\n",
    "    # plt.savefig('../outputs/images/current_equivalent_damage_projections_pulse_{}_{}.pdf'.format(specification, version))\n",
    "    \n"
   ]
  },
  {
   "cell_type": "code",
   "execution_count": null,
   "metadata": {},
   "outputs": [],
   "source": [
    "current_equivalent_damages['rcp'].values"
   ]
  },
  {
   "cell_type": "code",
   "execution_count": null,
   "metadata": {
    "scrolled": true
   },
   "outputs": [],
   "source": [
    "# Look at 0.5% discount rate\n",
    "# Potential change spot!!!!\n",
    "# Growth_rate is the energy price scenario -- change for given sector's needs\n",
    "\n",
    "if generate_plots:\n",
    "    fig, axes = plt.subplots((numvars+1)//2, min(2, numvars), figsize=(12, 8))\n",
    "\n",
    "    if numvars == 1:\n",
    "        axes = np.array([[axes]])\n",
    "\n",
    "    (current_equivalent_damages.sel(discrate=5.) * MAGNITUDE_OF_DAMAGES * CONVERSION).diff(dim='pulse').sel(pulse='pulse').plot.line(x='year', ax=axes[0,0])\n",
    "    axes[0,0].axes.set_title(\n",
    "        'Current equivalent damages incurred due to pulse (USD / ton CO2)\\n',\n",
    "        size=11)\n",
    "\n",
    "    sns.despine()\n",
    "    plt.tight_layout()\n",
    "    # plt.savefig('../outputs/images/current_equivalent_damage_projections_pulse_{}_{}.pdf'.format(specification, version))\n",
    "    "
   ]
  },
  {
   "cell_type": "code",
   "execution_count": null,
   "metadata": {},
   "outputs": [],
   "source": [
    "#max(current_equivalent_damages.sel(year=slice(2015, 2098))['year'])\n",
    "#min(current_equivalent_damages.sel(year=slice(2015, 2098))['year'])\n",
    "current_equivalent_damages.sel(year=slice(2015, 2098))"
   ]
  },
  {
   "cell_type": "markdown",
   "metadata": {},
   "source": [
    "### Plot SCC (sum of discounted marginal damage time series) by discount rate and RCP"
   ]
  },
  {
   "cell_type": "code",
   "execution_count": null,
   "metadata": {},
   "outputs": [],
   "source": [
    "scc = (\n",
    "    (current_equivalent_damages.diff(dim='pulse').sel(pulse='pulse') * MAGNITUDE_OF_DAMAGES * CONVERSION)\n",
    "    .sum(dim='year'))\n",
    "\n",
    "scc_pre_2099 = (\n",
    "    (current_equivalent_damages.sel(year=slice(2015, 2098)).diff(dim='pulse')\n",
    "    .sel(pulse='pulse') * MAGNITUDE_OF_DAMAGES * CONVERSION)\n",
    "    .sum(dim='year'))\n",
    "\n",
    "scc_post_2099 = (\n",
    "    (current_equivalent_damages.sel(year=slice(2099, 3000)).diff(dim='pulse')\n",
    "    .sel(pulse='pulse') * MAGNITUDE_OF_DAMAGES * CONVERSION)\n",
    "    .sum(dim='year'))\n",
    "\n",
    "scc_share_post2099 = (\n",
    "    scc_post_2099 / scc)\n",
    "\n",
    "scc = xr.concat([scc, scc_pre_2099, scc_post_2099, scc_share_post2099], pd.Index(['all', 'pre2099', 'post2099', 'share_post2099'], name='time_cut'))\n"
   ]
  },
  {
   "cell_type": "code",
   "execution_count": null,
   "metadata": {
    "scrolled": true
   },
   "outputs": [],
   "source": [
    "# Potential change spot!!!!\n",
    "# Growth_rate is the energy price scenario -- change for given sector's needs\n",
    "\n",
    "if generate_plots:\n",
    "    fig, axes = plt.subplots((numvars+1)//2, min(2, numvars), figsize=(12, 8))\n",
    "\n",
    "    if numvars == 1:\n",
    "        axes = np.array([[axes]])\n",
    "\n",
    "    scc.sel(time_cut='all').plot.line(x='discrate', ax=axes[0,0])\n",
    "    axes[0,0].set_title('SCC by discount rate')\n",
    "\n",
    "    plt.savefig('{}/scc_{}_{}_{}_2099-fixed-{}.pdf'.format(OUTPUT_path, specification, version, damage_func_form, hold_2099_damages_fixed))\n",
    "    plt.tight_layout()\n",
    "    sns.despine()"
   ]
  },
  {
   "cell_type": "markdown",
   "metadata": {},
   "source": [
    "### Export SCC to CSV"
   ]
  },
  {
   "cell_type": "code",
   "execution_count": null,
   "metadata": {},
   "outputs": [],
   "source": [
    "(\n",
    "    scc\n",
    "    .to_series()\n",
    "    .unstack('rcp')\n",
    "    .to_csv('{}/scc_{}_pulse{}GtC_{}_{}_2099-fixed-{}_test.csv'.format(OUTPUT_path, specification, PULSE_AMT, version, damage_func_form, hold_2099_damages_fixed)))\n",
    "\n",
    "print(datetime.now() - startTime)"
   ]
  },
  {
   "cell_type": "code",
   "execution_count": null,
   "metadata": {},
   "outputs": [],
   "source": [
    "OUTPUT_path"
   ]
  },
  {
   "cell_type": "code",
   "execution_count": null,
   "metadata": {
    "scrolled": true
   },
   "outputs": [],
   "source": [
    "pwd"
   ]
  },
  {
   "cell_type": "code",
   "execution_count": null,
   "metadata": {},
   "outputs": [],
   "source": []
  }
 ],
 "metadata": {
  "kernelspec": {
   "display_name": "Python 2",
   "language": "python",
   "name": "python2"
  },
  "language_info": {
   "codemirror_mode": {
    "name": "ipython",
    "version": 2
   },
   "file_extension": ".py",
   "mimetype": "text/x-python",
   "name": "python",
   "nbconvert_exporter": "python",
   "pygments_lexer": "ipython2",
   "version": "2.7.15"
  }
 },
 "nbformat": 4,
 "nbformat_minor": 2
}
